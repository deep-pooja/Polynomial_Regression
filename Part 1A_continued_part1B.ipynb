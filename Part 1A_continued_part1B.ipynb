{
 "cells": [
  {
   "cell_type": "markdown",
   "metadata": {},
   "source": [
    "Name: Deep Pooja, Roll No.-17074  Part-1A, Assignment-2"
   ]
  },
  {
   "cell_type": "code",
   "execution_count": 1,
   "metadata": {},
   "outputs": [
    {
     "name": "stdout",
     "output_type": "stream",
     "text": [
      "(100, 2)\n",
      "         X       t\n",
      "0 -0.24890  8.0050\n",
      "1 -0.15351  7.9964\n",
      "2  0.75275  8.0395\n",
      "3 -0.34430  8.0695\n",
      "4  1.25360  8.0277\n"
     ]
    },
    {
     "data": {
      "text/html": [
       "<div>\n",
       "<style scoped>\n",
       "    .dataframe tbody tr th:only-of-type {\n",
       "        vertical-align: middle;\n",
       "    }\n",
       "\n",
       "    .dataframe tbody tr th {\n",
       "        vertical-align: top;\n",
       "    }\n",
       "\n",
       "    .dataframe thead th {\n",
       "        text-align: right;\n",
       "    }\n",
       "</style>\n",
       "<table border=\"1\" class=\"dataframe\">\n",
       "  <thead>\n",
       "    <tr style=\"text-align: right;\">\n",
       "      <th></th>\n",
       "      <th>X</th>\n",
       "      <th>t</th>\n",
       "    </tr>\n",
       "  </thead>\n",
       "  <tbody>\n",
       "    <tr>\n",
       "      <th>count</th>\n",
       "      <td>100.000000</td>\n",
       "      <td>100.000000</td>\n",
       "    </tr>\n",
       "    <tr>\n",
       "      <th>mean</th>\n",
       "      <td>0.240000</td>\n",
       "      <td>8.092878</td>\n",
       "    </tr>\n",
       "    <tr>\n",
       "      <th>std</th>\n",
       "      <td>0.691889</td>\n",
       "      <td>0.152974</td>\n",
       "    </tr>\n",
       "    <tr>\n",
       "      <th>min</th>\n",
       "      <td>-0.940520</td>\n",
       "      <td>7.986200</td>\n",
       "    </tr>\n",
       "    <tr>\n",
       "      <th>25%</th>\n",
       "      <td>-0.350260</td>\n",
       "      <td>8.001000</td>\n",
       "    </tr>\n",
       "    <tr>\n",
       "      <th>50%</th>\n",
       "      <td>0.240000</td>\n",
       "      <td>8.019300</td>\n",
       "    </tr>\n",
       "    <tr>\n",
       "      <th>75%</th>\n",
       "      <td>0.830260</td>\n",
       "      <td>8.084075</td>\n",
       "    </tr>\n",
       "    <tr>\n",
       "      <th>max</th>\n",
       "      <td>1.420500</td>\n",
       "      <td>8.528000</td>\n",
       "    </tr>\n",
       "  </tbody>\n",
       "</table>\n",
       "</div>"
      ],
      "text/plain": [
       "                X           t\n",
       "count  100.000000  100.000000\n",
       "mean     0.240000    8.092878\n",
       "std      0.691889    0.152974\n",
       "min     -0.940520    7.986200\n",
       "25%     -0.350260    8.001000\n",
       "50%      0.240000    8.019300\n",
       "75%      0.830260    8.084075\n",
       "max      1.420500    8.528000"
      ]
     },
     "execution_count": 1,
     "metadata": {},
     "output_type": "execute_result"
    }
   ],
   "source": [
    "import pandas as pd\n",
    "import numpy as np \n",
    "import matplotlib.pyplot as plt \n",
    "from sklearn.linear_model import LinearRegression\n",
    "from sklearn.preprocessing import PolynomialFeatures\n",
    "#importing liberies different error function \n",
    "from sklearn.metrics import mean_squared_error\n",
    "from sklearn.metrics import max_error\n",
    "from sklearn.metrics import mean_absolute_error\n",
    "from sklearn.metrics import mean_squared_log_error\n",
    "from sklearn.metrics import median_absolute_error\n",
    "\n",
    "from sklearn.model_selection import train_test_split\n",
    "%matplotlib inline\n",
    "data = pd.read_csv(r\"C:\\Users\\hp\\Downloads\\HAPT Data Set\\Gaussian_noise.csv\",names=[\"X\", \"t\"])\n",
    "print(data.shape)\n",
    "d = data.iloc[0:20,:] # taking first 20 sample data points\n",
    "# extracting features and target set of data \"d\"\n",
    "X = d.iloc[:,0:1]\n",
    "Y = d.iloc[:,1]\n",
    "# extracting features and target set of data \"data\"\n",
    "x = data.iloc[:,0:1]\n",
    "y = data.iloc[:,1]\n",
    "print(d.head())\n",
    "data.describe()"
   ]
  },
  {
   "cell_type": "code",
   "execution_count": 50,
   "metadata": {},
   "outputs": [
    {
     "name": "stdout",
     "output_type": "stream",
     "text": [
      "(100, 2)\n",
      "         X       t\n",
      "0  1.90630   7.846\n",
      "1 -1.46260  28.116\n",
      "2 -1.27800  35.332\n",
      "3  0.10648  11.141\n",
      "4  1.49090  12.746\n"
     ]
    },
    {
     "data": {
      "text/html": [
       "<div>\n",
       "<style scoped>\n",
       "    .dataframe tbody tr th:only-of-type {\n",
       "        vertical-align: middle;\n",
       "    }\n",
       "\n",
       "    .dataframe tbody tr th {\n",
       "        vertical-align: top;\n",
       "    }\n",
       "\n",
       "    .dataframe thead th {\n",
       "        text-align: right;\n",
       "    }\n",
       "</style>\n",
       "<table border=\"1\" class=\"dataframe\">\n",
       "  <thead>\n",
       "    <tr style=\"text-align: right;\">\n",
       "      <th></th>\n",
       "      <th>X</th>\n",
       "      <th>t</th>\n",
       "    </tr>\n",
       "  </thead>\n",
       "  <tbody>\n",
       "    <tr>\n",
       "      <th>count</th>\n",
       "      <td>100.000000</td>\n",
       "      <td>100.000000</td>\n",
       "    </tr>\n",
       "    <tr>\n",
       "      <th>mean</th>\n",
       "      <td>0.683331</td>\n",
       "      <td>10.802743</td>\n",
       "    </tr>\n",
       "    <tr>\n",
       "      <th>std</th>\n",
       "      <td>1.338829</td>\n",
       "      <td>12.129903</td>\n",
       "    </tr>\n",
       "    <tr>\n",
       "      <th>min</th>\n",
       "      <td>-1.601000</td>\n",
       "      <td>-19.366000</td>\n",
       "    </tr>\n",
       "    <tr>\n",
       "      <th>25%</th>\n",
       "      <td>-0.458835</td>\n",
       "      <td>10.675750</td>\n",
       "    </tr>\n",
       "    <tr>\n",
       "      <th>50%</th>\n",
       "      <td>0.683335</td>\n",
       "      <td>12.036000</td>\n",
       "    </tr>\n",
       "    <tr>\n",
       "      <th>75%</th>\n",
       "      <td>1.825525</td>\n",
       "      <td>13.776250</td>\n",
       "    </tr>\n",
       "    <tr>\n",
       "      <th>max</th>\n",
       "      <td>2.967700</td>\n",
       "      <td>35.332000</td>\n",
       "    </tr>\n",
       "  </tbody>\n",
       "</table>\n",
       "</div>"
      ],
      "text/plain": [
       "                X           t\n",
       "count  100.000000  100.000000\n",
       "mean     0.683331   10.802743\n",
       "std      1.338829   12.129903\n",
       "min     -1.601000  -19.366000\n",
       "25%     -0.458835   10.675750\n",
       "50%      0.683335   12.036000\n",
       "75%      1.825525   13.776250\n",
       "max      2.967700   35.332000"
      ]
     },
     "execution_count": 50,
     "metadata": {},
     "output_type": "execute_result"
    }
   ],
   "source": [
    "df = pd.read_csv(r\"C:\\Users\\hp\\Downloads\\HAPT Data Set\\NonGaussian_noise.csv\",names=[\"X\", \"t\"])\n",
    "print(df.shape)\n",
    "#df1 = df.iloc[0:20,:] # taking first 20 sample data points\n",
    "# extracting features and target set of data \"d\"\n",
    "#U = d.iloc[:,0:1]\n",
    "#V = d.iloc[:,1]\n",
    "# extracting features and target set of data \"data\"\n",
    "u = df.iloc[:,0:1]\n",
    "v = df.iloc[:,1]\n",
    "print(df.head())\n",
    "df.describe()"
   ]
  },
  {
   "cell_type": "code",
   "execution_count": 85,
   "metadata": {},
   "outputs": [],
   "source": [
    "error_func = [mean_squared_error,max_error,mean_absolute_error,mean_squared_log_error,median_absolute_error]\n",
    " \n",
    "from sklearn.pipeline import Pipeline\n",
    "def find_best_deg(a,b):\n",
    "    x_train, x_test, y_train, y_test = train_test_split(a, b, test_size=0.25)\n",
    "    rmses = []\n",
    "    degrees = np.arange(1, 25)\n",
    "    min_rmse, min_deg = 1e10, 0\n",
    "    rmses.clear()\n",
    "    for deg in degrees:\n",
    "       \n",
    "        polynomial_regression = Pipeline([\n",
    "        (\"poly_features\", PolynomialFeatures(degree=deg,\n",
    "        include_bias=False)),\n",
    "        (\"lin_reg\", LinearRegression()),\n",
    "        ])\n",
    "\n",
    "        # Compare with test data\n",
    "        polynomial_regression.fit(x_train,y_train)\n",
    "        poly_predict = polynomial_regression.predict(x_test)\n",
    "        poly_mse =mean_squared_error(y_test, poly_predict)\n",
    "        #poly_rmse = np.sqrt(poly_mse)\n",
    "        rmses.append(poly_mse)\n",
    "\n",
    "        # Cross-validation of degree\n",
    "        if min_rmse > poly_mse:\n",
    "            min_rmse = poly_mse\n",
    "            min_deg = deg\n",
    "\n",
    "    # Plot and present results\n",
    "    print('Best degree {} mean_squared_log_error {}'.format(min_deg, min_rmse))\n",
    "    \n",
    "    plt.plot(degrees,rmses)\n",
    "    plt.xlabel('Degree of polyomial')\n",
    "    plt.ylabel('mean_squared_error')\n",
    "    plt.title('part 1B')\n",
    "    plt.show()"
   ]
  },
  {
   "cell_type": "code",
   "execution_count": 86,
   "metadata": {},
   "outputs": [
    {
     "name": "stdout",
     "output_type": "stream",
     "text": [
      "Best degree 13 mean_squared_log_error 1.010844380662619\n"
     ]
    },
    {
     "data": {
      "image/png": "[encoded data removed]",
      "text/plain": [
       "<Figure size 432x288 with 1 Axes>"
      ]
     },
     "metadata": {
      "needs_background": "light"
     },
     "output_type": "display_data"
    }
   ],
   "source": [
    "#findig the best fitting degree with MSE error\n",
    "find_best_deg(u,v)"
   ]
  },
  {
   "cell_type": "code",
   "execution_count": null,
   "metadata": {},
   "outputs": [],
   "source": [
    "# noise variance estimation\n",
    "def noise_variance(y,y_pred):\n",
    "    er = 0\n",
    "    for i in range(1,len(y)):\n",
    "        e =(y_pred[i]-y[i])*(y_pred[i]-y[i])\n",
    "        er += e\n",
    "    return er/len(y)\n",
    "noise = noise_variance(Y,y_predicted)\n",
    "print(noise)"
   ]
  },
  {
   "cell_type": "code",
   "execution_count": null,
   "metadata": {},
   "outputs": [],
   "source": []
  },
  {
   "cell_type": "code",
   "execution_count": null,
   "metadata": {},
   "outputs": [],
   "source": []
  }
 ],
 "metadata": {
  "kernelspec": {
   "display_name": "Python 3",
   "language": "python",
   "name": "python3"
  },
  "language_info": {
   "codemirror_mode": {
    "name": "ipython",
    "version": 3
   },
   "file_extension": ".py",
   "mimetype": "text/x-python",
   "name": "python",
   "nbconvert_exporter": "python",
   "pygments_lexer": "ipython3",
   "version": "3.6.5"
  }
 },
 "nbformat": 4,
 "nbformat_minor": 2
}
